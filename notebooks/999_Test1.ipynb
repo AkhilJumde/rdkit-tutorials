{
 "cells": [
  {
   "cell_type": "markdown",
   "metadata": {},
   "source": [
    "# Test tutorial\n",
    "\n",
    "This isn't really intended to be a useful tutorial, it's there to allow us to excercise the automated testing code.\n",
    "\n",
    "@TAGS: #testing #basics "
   ]
  },
  {
   "cell_type": "code",
   "execution_count": 1,
   "metadata": {},
   "outputs": [],
   "source": [
    "from rdkit import Chem\n",
    "from rdkit.Chem.Draw import IPythonConsole\n",
    "IPythonConsole.ipython_useSVG=True"
   ]
  },
  {
   "cell_type": "code",
   "execution_count": 2,
   "metadata": {
    "tags": [
     "nbval-ignore-output"
    ]
   },
   "outputs": [
    {
     "name": "stdout",
     "output_type": "stream",
     "text": [
      "Tue Jan 18 09:36:36 2022\n"
     ]
    }
   ],
   "source": [
    "import time\n",
    "print(time.asctime()) # doctest: IGNORE"
   ]
  },
  {
   "cell_type": "code",
   "execution_count": 3,
   "metadata": {},
   "outputs": [
    {
     "data": {
      "text/plain": [
       "'Oc1ccccc1'"
      ]
     },
     "execution_count": 3,
     "metadata": {},
     "output_type": "execute_result"
    }
   ],
   "source": [
    "Chem.CanonSmiles(\"c1ccccc1O\")"
   ]
  },
  {
   "cell_type": "code",
   "execution_count": 4,
   "metadata": {
    "tags": [
     "nbval-ignore-output"
    ]
   },
   "outputs": [
    {
     "data": {
      "image/png": "[encoded data removed]",
      "image/svg+xml": [
       "<?xml version='1.0' encoding='iso-8859-1'?>\n",
       "<svg version='1.1' baseProfile='full'\n",
       "              xmlns='http://www.w3.org/2000/svg'\n",
       "                      xmlns:rdkit='http://www.rdkit.org/xml'\n",
       "                      xmlns:xlink='http://www.w3.org/1999/xlink'\n",
       "                  xml:space='preserve'\n",
       "width='450px' height='150px' viewBox='0 0 450 150'>\n",
       "<!-- END OF HEADER -->\n",
       "<rect style='opacity:1.0;fill:#FFFFFF;stroke:none' width='450.0' height='150.0' x='0.0' y='0.0'> </rect>\n",
       "<path class='bond-0 atom-0 atom-1' d='M 209.8,143.2 L 131.1,143.2' style='fill:none;fill-rule:evenodd;stroke:#000000;stroke-width:2.0px;stroke-linecap:butt;stroke-linejoin:miter;stroke-opacity:1' />\n",
       "<path class='bond-0 atom-0 atom-1' d='M 198.0,127.4 L 142.9,127.4' style='fill:none;fill-rule:evenodd;stroke:#000000;stroke-width:2.0px;stroke-linecap:butt;stroke-linejoin:miter;stroke-opacity:1' />\n",
       "<path class='bond-6 atom-5 atom-0' d='M 249.2,75.0 L 209.8,143.2' style='fill:none;fill-rule:evenodd;stroke:#000000;stroke-width:2.0px;stroke-linecap:butt;stroke-linejoin:miter;stroke-opacity:1' />\n",
       "<path class='bond-1 atom-1 atom-2' d='M 131.1,143.2 L 91.7,75.0' style='fill:none;fill-rule:evenodd;stroke:#000000;stroke-width:2.0px;stroke-linecap:butt;stroke-linejoin:miter;stroke-opacity:1' />\n",
       "<path class='bond-2 atom-2 atom-3' d='M 91.7,75.0 L 131.1,6.8' style='fill:none;fill-rule:evenodd;stroke:#000000;stroke-width:2.0px;stroke-linecap:butt;stroke-linejoin:miter;stroke-opacity:1' />\n",
       "<path class='bond-2 atom-2 atom-3' d='M 111.3,72.6 L 138.8,24.9' style='fill:none;fill-rule:evenodd;stroke:#000000;stroke-width:2.0px;stroke-linecap:butt;stroke-linejoin:miter;stroke-opacity:1' />\n",
       "<path class='bond-3 atom-3 atom-4' d='M 131.1,6.8 L 209.8,6.8' style='fill:none;fill-rule:evenodd;stroke:#000000;stroke-width:2.0px;stroke-linecap:butt;stroke-linejoin:miter;stroke-opacity:1' />\n",
       "<path class='bond-4 atom-4 atom-5' d='M 209.8,6.8 L 249.2,75.0' style='fill:none;fill-rule:evenodd;stroke:#000000;stroke-width:2.0px;stroke-linecap:butt;stroke-linejoin:miter;stroke-opacity:1' />\n",
       "<path class='bond-4 atom-4 atom-5' d='M 202.1,24.9 L 229.6,72.6' style='fill:none;fill-rule:evenodd;stroke:#000000;stroke-width:2.0px;stroke-linecap:butt;stroke-linejoin:miter;stroke-opacity:1' />\n",
       "<path class='bond-5 atom-5 atom-6' d='M 249.2,75.0 L 282.4,75.0' style='fill:none;fill-rule:evenodd;stroke:#000000;stroke-width:2.0px;stroke-linecap:butt;stroke-linejoin:miter;stroke-opacity:1' />\n",
       "<path class='bond-5 atom-5 atom-6' d='M 282.4,75.0 L 315.7,75.0' style='fill:none;fill-rule:evenodd;stroke:#FF0000;stroke-width:2.0px;stroke-linecap:butt;stroke-linejoin:miter;stroke-opacity:1' />\n",
       "<path  class='atom-6' d='M 317.7 75.1\n",
       "Q 317.7 69.7, 320.3 66.7\n",
       "Q 323.0 63.7, 327.9 63.7\n",
       "Q 332.9 63.7, 335.5 66.7\n",
       "Q 338.2 69.7, 338.2 75.1\n",
       "Q 338.2 80.5, 335.5 83.6\n",
       "Q 332.8 86.6, 327.9 86.6\n",
       "Q 323.0 86.6, 320.3 83.6\n",
       "Q 317.7 80.5, 317.7 75.1\n",
       "M 327.9 84.1\n",
       "Q 331.3 84.1, 333.1 81.8\n",
       "Q 335.0 79.5, 335.0 75.1\n",
       "Q 335.0 70.7, 333.1 68.5\n",
       "Q 331.3 66.2, 327.9 66.2\n",
       "Q 324.5 66.2, 322.7 68.4\n",
       "Q 320.8 70.7, 320.8 75.1\n",
       "Q 320.8 79.6, 322.7 81.8\n",
       "Q 324.5 84.1, 327.9 84.1\n",
       "' fill='#FF0000'/>\n",
       "<path  class='atom-6' d='M 340.8 64.0\n",
       "L 343.9 64.0\n",
       "L 343.9 73.5\n",
       "L 355.3 73.5\n",
       "L 355.3 64.0\n",
       "L 358.3 64.0\n",
       "L 358.3 86.3\n",
       "L 355.3 86.3\n",
       "L 355.3 76.0\n",
       "L 343.9 76.0\n",
       "L 343.9 86.3\n",
       "L 340.8 86.3\n",
       "L 340.8 64.0\n",
       "' fill='#FF0000'/>\n",
       "</svg>\n"
      ],
      "text/html": [
       "<?xml version='1.0' encoding='iso-8859-1'?>\n",
       "<svg version='1.1' baseProfile='full'\n",
       "              xmlns='http://www.w3.org/2000/svg'\n",
       "                      xmlns:rdkit='http://www.rdkit.org/xml'\n",
       "                      xmlns:xlink='http://www.w3.org/1999/xlink'\n",
       "                  xml:space='preserve'\n",
       "width='450px' height='150px' viewBox='0 0 450 150'>\n",
       "<!-- END OF HEADER -->\n",
       "<rect style='opacity:1.0;fill:#FFFFFF;stroke:none' width='450.0' height='150.0' x='0.0' y='0.0'> </rect>\n",
       "<path class='bond-0 atom-0 atom-1' d='M 209.8,143.2 L 131.1,143.2' style='fill:none;fill-rule:evenodd;stroke:#000000;stroke-width:2.0px;stroke-linecap:butt;stroke-linejoin:miter;stroke-opacity:1' />\n",
       "<path class='bond-0 atom-0 atom-1' d='M 198.0,127.4 L 142.9,127.4' style='fill:none;fill-rule:evenodd;stroke:#000000;stroke-width:2.0px;stroke-linecap:butt;stroke-linejoin:miter;stroke-opacity:1' />\n",
       "<path class='bond-6 atom-5 atom-0' d='M 249.2,75.0 L 209.8,143.2' style='fill:none;fill-rule:evenodd;stroke:#000000;stroke-width:2.0px;stroke-linecap:butt;stroke-linejoin:miter;stroke-opacity:1' />\n",
       "<path class='bond-1 atom-1 atom-2' d='M 131.1,143.2 L 91.7,75.0' style='fill:none;fill-rule:evenodd;stroke:#000000;stroke-width:2.0px;stroke-linecap:butt;stroke-linejoin:miter;stroke-opacity:1' />\n",
       "<path class='bond-2 atom-2 atom-3' d='M 91.7,75.0 L 131.1,6.8' style='fill:none;fill-rule:evenodd;stroke:#000000;stroke-width:2.0px;stroke-linecap:butt;stroke-linejoin:miter;stroke-opacity:1' />\n",
       "<path class='bond-2 atom-2 atom-3' d='M 111.3,72.6 L 138.8,24.9' style='fill:none;fill-rule:evenodd;stroke:#000000;stroke-width:2.0px;stroke-linecap:butt;stroke-linejoin:miter;stroke-opacity:1' />\n",
       "<path class='bond-3 atom-3 atom-4' d='M 131.1,6.8 L 209.8,6.8' style='fill:none;fill-rule:evenodd;stroke:#000000;stroke-width:2.0px;stroke-linecap:butt;stroke-linejoin:miter;stroke-opacity:1' />\n",
       "<path class='bond-4 atom-4 atom-5' d='M 209.8,6.8 L 249.2,75.0' style='fill:none;fill-rule:evenodd;stroke:#000000;stroke-width:2.0px;stroke-linecap:butt;stroke-linejoin:miter;stroke-opacity:1' />\n",
       "<path class='bond-4 atom-4 atom-5' d='M 202.1,24.9 L 229.6,72.6' style='fill:none;fill-rule:evenodd;stroke:#000000;stroke-width:2.0px;stroke-linecap:butt;stroke-linejoin:miter;stroke-opacity:1' />\n",
       "<path class='bond-5 atom-5 atom-6' d='M 249.2,75.0 L 282.4,75.0' style='fill:none;fill-rule:evenodd;stroke:#000000;stroke-width:2.0px;stroke-linecap:butt;stroke-linejoin:miter;stroke-opacity:1' />\n",
       "<path class='bond-5 atom-5 atom-6' d='M 282.4,75.0 L 315.7,75.0' style='fill:none;fill-rule:evenodd;stroke:#FF0000;stroke-width:2.0px;stroke-linecap:butt;stroke-linejoin:miter;stroke-opacity:1' />\n",
       "<path  class='atom-6' d='M 317.7 75.1\n",
       "Q 317.7 69.7, 320.3 66.7\n",
       "Q 323.0 63.7, 327.9 63.7\n",
       "Q 332.9 63.7, 335.5 66.7\n",
       "Q 338.2 69.7, 338.2 75.1\n",
       "Q 338.2 80.5, 335.5 83.6\n",
       "Q 332.8 86.6, 327.9 86.6\n",
       "Q 323.0 86.6, 320.3 83.6\n",
       "Q 317.7 80.5, 317.7 75.1\n",
       "M 327.9 84.1\n",
       "Q 331.3 84.1, 333.1 81.8\n",
       "Q 335.0 79.5, 335.0 75.1\n",
       "Q 335.0 70.7, 333.1 68.5\n",
       "Q 331.3 66.2, 327.9 66.2\n",
       "Q 324.5 66.2, 322.7 68.4\n",
       "Q 320.8 70.7, 320.8 75.1\n",
       "Q 320.8 79.6, 322.7 81.8\n",
       "Q 324.5 84.1, 327.9 84.1\n",
       "' fill='#FF0000'/>\n",
       "<path  class='atom-6' d='M 340.8 64.0\n",
       "L 343.9 64.0\n",
       "L 343.9 73.5\n",
       "L 355.3 73.5\n",
       "L 355.3 64.0\n",
       "L 358.3 64.0\n",
       "L 358.3 86.3\n",
       "L 355.3 86.3\n",
       "L 355.3 76.0\n",
       "L 343.9 76.0\n",
       "L 343.9 86.3\n",
       "L 340.8 86.3\n",
       "L 340.8 64.0\n",
       "' fill='#FF0000'/>\n",
       "</svg>\n"
      ],
      "text/plain": [
       "<rdkit.Chem.rdchem.Mol at 0x7fb484ae0be0>"
      ]
     },
     "execution_count": 4,
     "metadata": {},
     "output_type": "execute_result"
    }
   ],
   "source": [
    "Chem.MolFromSmiles('c1ccccc1O')"
   ]
  },
  {
   "cell_type": "code",
   "execution_count": 5,
   "metadata": {},
   "outputs": [
    {
     "name": "stdout",
     "output_type": "stream",
     "text": [
      "hello\n"
     ]
    },
    {
     "data": {
      "text/plain": [
       "'CNc1ccccc1'"
      ]
     },
     "execution_count": 5,
     "metadata": {},
     "output_type": "execute_result"
    }
   ],
   "source": [
    "print(\"hello\")\n",
    "# comment\n",
    "Chem.CanonSmiles(\"c1ccccc1NC\")"
   ]
  },
  {
   "cell_type": "markdown",
   "metadata": {
    "collapsed": true
   },
   "source": [
    "Some nice explanatory text"
   ]
  },
  {
   "cell_type": "code",
   "execution_count": 6,
   "metadata": {
    "tags": [
     "nbval-ignore-output"
    ]
   },
   "outputs": [
    {
     "data": {
      "image/png": "[encoded data removed]",
      "image/svg+xml": [
       "<?xml version='1.0' encoding='iso-8859-1'?>\n",
       "<svg version='1.1' baseProfile='full'\n",
       "              xmlns='http://www.w3.org/2000/svg'\n",
       "                      xmlns:rdkit='http://www.rdkit.org/xml'\n",
       "                      xmlns:xlink='http://www.w3.org/1999/xlink'\n",
       "                  xml:space='preserve'\n",
       "width='450px' height='150px' viewBox='0 0 450 150'>\n",
       "<!-- END OF HEADER -->\n",
       "<rect style='opacity:1.0;fill:#FFFFFF;stroke:none' width='450.0' height='150.0' x='0.0' y='0.0'> </rect>\n",
       "<path class='bond-0 atom-0 atom-1' d='M 305.4,26.8 L 253.4,48.9' style='fill:none;fill-rule:evenodd;stroke:#000000;stroke-width:2.0px;stroke-linecap:butt;stroke-linejoin:miter;stroke-opacity:1' />\n",
       "<path class='bond-1 atom-1 atom-2' d='M 253.4,48.9 L 235.2,35.2' style='fill:none;fill-rule:evenodd;stroke:#000000;stroke-width:2.0px;stroke-linecap:butt;stroke-linejoin:miter;stroke-opacity:1' />\n",
       "<path class='bond-1 atom-1 atom-2' d='M 235.2,35.2 L 217.0,21.5' style='fill:none;fill-rule:evenodd;stroke:#FF0000;stroke-width:2.0px;stroke-linecap:butt;stroke-linejoin:miter;stroke-opacity:1' />\n",
       "<path class='bond-6 atom-2 atom-7' d='M 199.4,18.6 L 180.3,26.8' style='fill:none;fill-rule:evenodd;stroke:#FF0000;stroke-width:2.0px;stroke-linecap:butt;stroke-linejoin:miter;stroke-opacity:1' />\n",
       "<path class='bond-6 atom-2 atom-7' d='M 180.3,26.8 L 161.1,35.0' style='fill:none;fill-rule:evenodd;stroke:#191919;stroke-width:2.0px;stroke-linecap:butt;stroke-linejoin:miter;stroke-opacity:1' />\n",
       "<path class='bond-2 atom-3 atom-4' d='M 241.1,114.9 L 192.2,86.6' style='fill:none;fill-rule:evenodd;stroke:#000000;stroke-width:2.0px;stroke-linecap:butt;stroke-linejoin:miter;stroke-opacity:1' />\n",
       "<path class='bond-4 atom-5 atom-3' d='M 192.2,143.2 L 241.1,114.9' style='fill:none;fill-rule:evenodd;stroke:#000000;stroke-width:2.0px;stroke-linecap:butt;stroke-linejoin:miter;stroke-opacity:1' />\n",
       "<path class='bond-5 atom-6 atom-3' d='M 284.7,114.9 L 262.9,114.9' style='fill:none;fill-rule:evenodd;stroke:#191919;stroke-width:2.0px;stroke-linecap:butt;stroke-linejoin:miter;stroke-opacity:1' />\n",
       "<path class='bond-5 atom-6 atom-3' d='M 262.9,114.9 L 241.1,114.9' style='fill:none;fill-rule:evenodd;stroke:#000000;stroke-width:2.0px;stroke-linecap:butt;stroke-linejoin:miter;stroke-opacity:1' />\n",
       "<path class='bond-3 atom-4 atom-5' d='M 192.2,86.6 L 192.2,143.2' style='fill:none;fill-rule:evenodd;stroke:#000000;stroke-width:2.0px;stroke-linecap:butt;stroke-linejoin:miter;stroke-opacity:1' />\n",
       "<path  class='atom-2' d='M 200.8 15.0\n",
       "Q 200.8 11.1, 202.7 9.0\n",
       "Q 204.6 6.8, 208.2 6.8\n",
       "Q 211.7 6.8, 213.6 9.0\n",
       "Q 215.5 11.1, 215.5 15.0\n",
       "Q 215.5 18.9, 213.6 21.1\n",
       "Q 211.7 23.3, 208.2 23.3\n",
       "Q 204.7 23.3, 202.7 21.1\n",
       "Q 200.8 18.9, 200.8 15.0\n",
       "M 208.2 21.5\n",
       "Q 210.6 21.5, 211.9 19.8\n",
       "Q 213.3 18.2, 213.3 15.0\n",
       "Q 213.3 11.8, 211.9 10.2\n",
       "Q 210.6 8.6, 208.2 8.6\n",
       "Q 205.7 8.6, 204.4 10.2\n",
       "Q 203.1 11.8, 203.1 15.0\n",
       "Q 203.1 18.2, 204.4 19.8\n",
       "Q 205.7 21.5, 208.2 21.5\n",
       "' fill='#FF0000'/>\n",
       "<path  class='atom-6' d='M 286.1 110.8\n",
       "Q 286.5 109.8, 287.5 109.3\n",
       "Q 288.4 108.7, 289.7 108.7\n",
       "Q 291.3 108.7, 292.2 109.6\n",
       "Q 293.1 110.4, 293.1 112.0\n",
       "Q 293.1 113.5, 291.9 115.0\n",
       "Q 290.7 116.5, 288.3 118.2\n",
       "L 293.2 118.2\n",
       "L 293.2 119.4\n",
       "L 286.1 119.4\n",
       "L 286.1 118.4\n",
       "Q 288.1 117.0, 289.2 115.9\n",
       "Q 290.4 114.9, 291.0 113.9\n",
       "Q 291.6 113.0, 291.6 112.0\n",
       "Q 291.6 111.0, 291.1 110.5\n",
       "Q 290.5 109.9, 289.7 109.9\n",
       "Q 288.8 109.9, 288.2 110.2\n",
       "Q 287.7 110.6, 287.3 111.3\n",
       "L 286.1 110.8\n",
       "' fill='#191919'/>\n",
       "<path  class='atom-6' d='M 294.7 113.1\n",
       "L 297.0 110.7\n",
       "L 293.9 110.1\n",
       "L 294.4 108.5\n",
       "L 297.3 109.9\n",
       "L 296.9 106.8\n",
       "L 298.5 106.8\n",
       "L 298.1 109.9\n",
       "L 301.0 108.5\n",
       "L 301.5 110.1\n",
       "L 298.3 110.7\n",
       "L 300.6 113.1\n",
       "L 299.2 114.1\n",
       "L 297.6 111.1\n",
       "L 296.1 114.1\n",
       "L 294.7 113.1\n",
       "' fill='#191919'/>\n",
       "<path  class='atom-7' d='M 149.6 36.0\n",
       "Q 150.7 36.3, 151.2 36.9\n",
       "Q 151.7 37.6, 151.7 38.6\n",
       "Q 151.7 39.5, 151.2 40.2\n",
       "Q 150.8 40.9, 150.0 41.3\n",
       "Q 149.1 41.7, 148.1 41.7\n",
       "Q 146.9 41.7, 146.1 41.3\n",
       "Q 145.2 40.9, 144.6 40.1\n",
       "L 145.4 39.2\n",
       "Q 146.1 39.9, 146.6 40.2\n",
       "Q 147.2 40.5, 148.1 40.5\n",
       "Q 149.0 40.5, 149.6 40.0\n",
       "Q 150.2 39.5, 150.2 38.6\n",
       "Q 150.2 37.6, 149.6 37.1\n",
       "Q 149.0 36.6, 147.7 36.6\n",
       "L 146.9 36.6\n",
       "L 146.9 35.5\n",
       "L 147.6 35.5\n",
       "Q 148.7 35.5, 149.3 35.0\n",
       "Q 150.0 34.5, 150.0 33.6\n",
       "Q 150.0 32.9, 149.5 32.5\n",
       "Q 148.9 32.0, 148.1 32.0\n",
       "Q 147.2 32.0, 146.6 32.4\n",
       "Q 146.1 32.7, 145.7 33.5\n",
       "L 144.7 32.9\n",
       "Q 145.0 32.0, 145.9 31.4\n",
       "Q 146.8 30.9, 148.1 30.9\n",
       "Q 149.6 30.9, 150.5 31.6\n",
       "Q 151.5 32.3, 151.5 33.6\n",
       "Q 151.5 34.4, 151.0 35.0\n",
       "Q 150.5 35.6, 149.6 36.0\n",
       "' fill='#191919'/>\n",
       "<path  class='atom-7' d='M 153.1 35.3\n",
       "L 155.5 32.9\n",
       "L 152.4 32.2\n",
       "L 152.8 30.6\n",
       "L 155.7 32.1\n",
       "L 155.3 28.9\n",
       "L 157.0 28.9\n",
       "L 156.5 32.1\n",
       "L 159.4 30.7\n",
       "L 159.9 32.2\n",
       "L 156.8 32.8\n",
       "L 159.0 35.3\n",
       "L 157.6 36.2\n",
       "L 156.1 33.3\n",
       "L 154.5 36.2\n",
       "L 153.1 35.3\n",
       "' fill='#191919'/>\n",
       "</svg>\n"
      ],
      "text/html": [
       "<?xml version='1.0' encoding='iso-8859-1'?>\n",
       "<svg version='1.1' baseProfile='full'\n",
       "              xmlns='http://www.w3.org/2000/svg'\n",
       "                      xmlns:rdkit='http://www.rdkit.org/xml'\n",
       "                      xmlns:xlink='http://www.w3.org/1999/xlink'\n",
       "                  xml:space='preserve'\n",
       "width='450px' height='150px' viewBox='0 0 450 150'>\n",
       "<!-- END OF HEADER -->\n",
       "<rect style='opacity:1.0;fill:#FFFFFF;stroke:none' width='450.0' height='150.0' x='0.0' y='0.0'> </rect>\n",
       "<path class='bond-0 atom-0 atom-1' d='M 305.4,26.8 L 253.4,48.9' style='fill:none;fill-rule:evenodd;stroke:#000000;stroke-width:2.0px;stroke-linecap:butt;stroke-linejoin:miter;stroke-opacity:1' />\n",
       "<path class='bond-1 atom-1 atom-2' d='M 253.4,48.9 L 235.2,35.2' style='fill:none;fill-rule:evenodd;stroke:#000000;stroke-width:2.0px;stroke-linecap:butt;stroke-linejoin:miter;stroke-opacity:1' />\n",
       "<path class='bond-1 atom-1 atom-2' d='M 235.2,35.2 L 217.0,21.5' style='fill:none;fill-rule:evenodd;stroke:#FF0000;stroke-width:2.0px;stroke-linecap:butt;stroke-linejoin:miter;stroke-opacity:1' />\n",
       "<path class='bond-6 atom-2 atom-7' d='M 199.4,18.6 L 180.3,26.8' style='fill:none;fill-rule:evenodd;stroke:#FF0000;stroke-width:2.0px;stroke-linecap:butt;stroke-linejoin:miter;stroke-opacity:1' />\n",
       "<path class='bond-6 atom-2 atom-7' d='M 180.3,26.8 L 161.1,35.0' style='fill:none;fill-rule:evenodd;stroke:#191919;stroke-width:2.0px;stroke-linecap:butt;stroke-linejoin:miter;stroke-opacity:1' />\n",
       "<path class='bond-2 atom-3 atom-4' d='M 241.1,114.9 L 192.2,86.6' style='fill:none;fill-rule:evenodd;stroke:#000000;stroke-width:2.0px;stroke-linecap:butt;stroke-linejoin:miter;stroke-opacity:1' />\n",
       "<path class='bond-4 atom-5 atom-3' d='M 192.2,143.2 L 241.1,114.9' style='fill:none;fill-rule:evenodd;stroke:#000000;stroke-width:2.0px;stroke-linecap:butt;stroke-linejoin:miter;stroke-opacity:1' />\n",
       "<path class='bond-5 atom-6 atom-3' d='M 284.7,114.9 L 262.9,114.9' style='fill:none;fill-rule:evenodd;stroke:#191919;stroke-width:2.0px;stroke-linecap:butt;stroke-linejoin:miter;stroke-opacity:1' />\n",
       "<path class='bond-5 atom-6 atom-3' d='M 262.9,114.9 L 241.1,114.9' style='fill:none;fill-rule:evenodd;stroke:#000000;stroke-width:2.0px;stroke-linecap:butt;stroke-linejoin:miter;stroke-opacity:1' />\n",
       "<path class='bond-3 atom-4 atom-5' d='M 192.2,86.6 L 192.2,143.2' style='fill:none;fill-rule:evenodd;stroke:#000000;stroke-width:2.0px;stroke-linecap:butt;stroke-linejoin:miter;stroke-opacity:1' />\n",
       "<path  class='atom-2' d='M 200.8 15.0\n",
       "Q 200.8 11.1, 202.7 9.0\n",
       "Q 204.6 6.8, 208.2 6.8\n",
       "Q 211.7 6.8, 213.6 9.0\n",
       "Q 215.5 11.1, 215.5 15.0\n",
       "Q 215.5 18.9, 213.6 21.1\n",
       "Q 211.7 23.3, 208.2 23.3\n",
       "Q 204.7 23.3, 202.7 21.1\n",
       "Q 200.8 18.9, 200.8 15.0\n",
       "M 208.2 21.5\n",
       "Q 210.6 21.5, 211.9 19.8\n",
       "Q 213.3 18.2, 213.3 15.0\n",
       "Q 213.3 11.8, 211.9 10.2\n",
       "Q 210.6 8.6, 208.2 8.6\n",
       "Q 205.7 8.6, 204.4 10.2\n",
       "Q 203.1 11.8, 203.1 15.0\n",
       "Q 203.1 18.2, 204.4 19.8\n",
       "Q 205.7 21.5, 208.2 21.5\n",
       "' fill='#FF0000'/>\n",
       "<path  class='atom-6' d='M 286.1 110.8\n",
       "Q 286.5 109.8, 287.5 109.3\n",
       "Q 288.4 108.7, 289.7 108.7\n",
       "Q 291.3 108.7, 292.2 109.6\n",
       "Q 293.1 110.4, 293.1 112.0\n",
       "Q 293.1 113.5, 291.9 115.0\n",
       "Q 290.7 116.5, 288.3 118.2\n",
       "L 293.2 118.2\n",
       "L 293.2 119.4\n",
       "L 286.1 119.4\n",
       "L 286.1 118.4\n",
       "Q 288.1 117.0, 289.2 115.9\n",
       "Q 290.4 114.9, 291.0 113.9\n",
       "Q 291.6 113.0, 291.6 112.0\n",
       "Q 291.6 111.0, 291.1 110.5\n",
       "Q 290.5 109.9, 289.7 109.9\n",
       "Q 288.8 109.9, 288.2 110.2\n",
       "Q 287.7 110.6, 287.3 111.3\n",
       "L 286.1 110.8\n",
       "' fill='#191919'/>\n",
       "<path  class='atom-6' d='M 294.7 113.1\n",
       "L 297.0 110.7\n",
       "L 293.9 110.1\n",
       "L 294.4 108.5\n",
       "L 297.3 109.9\n",
       "L 296.9 106.8\n",
       "L 298.5 106.8\n",
       "L 298.1 109.9\n",
       "L 301.0 108.5\n",
       "L 301.5 110.1\n",
       "L 298.3 110.7\n",
       "L 300.6 113.1\n",
       "L 299.2 114.1\n",
       "L 297.6 111.1\n",
       "L 296.1 114.1\n",
       "L 294.7 113.1\n",
       "' fill='#191919'/>\n",
       "<path  class='atom-7' d='M 149.6 36.0\n",
       "Q 150.7 36.3, 151.2 36.9\n",
       "Q 151.7 37.6, 151.7 38.6\n",
       "Q 151.7 39.5, 151.2 40.2\n",
       "Q 150.8 40.9, 150.0 41.3\n",
       "Q 149.1 41.7, 148.1 41.7\n",
       "Q 146.9 41.7, 146.1 41.3\n",
       "Q 145.2 40.9, 144.6 40.1\n",
       "L 145.4 39.2\n",
       "Q 146.1 39.9, 146.6 40.2\n",
       "Q 147.2 40.5, 148.1 40.5\n",
       "Q 149.0 40.5, 149.6 40.0\n",
       "Q 150.2 39.5, 150.2 38.6\n",
       "Q 150.2 37.6, 149.6 37.1\n",
       "Q 149.0 36.6, 147.7 36.6\n",
       "L 146.9 36.6\n",
       "L 146.9 35.5\n",
       "L 147.6 35.5\n",
       "Q 148.7 35.5, 149.3 35.0\n",
       "Q 150.0 34.5, 150.0 33.6\n",
       "Q 150.0 32.9, 149.5 32.5\n",
       "Q 148.9 32.0, 148.1 32.0\n",
       "Q 147.2 32.0, 146.6 32.4\n",
       "Q 146.1 32.7, 145.7 33.5\n",
       "L 144.7 32.9\n",
       "Q 145.0 32.0, 145.9 31.4\n",
       "Q 146.8 30.9, 148.1 30.9\n",
       "Q 149.6 30.9, 150.5 31.6\n",
       "Q 151.5 32.3, 151.5 33.6\n",
       "Q 151.5 34.4, 151.0 35.0\n",
       "Q 150.5 35.6, 149.6 36.0\n",
       "' fill='#191919'/>\n",
       "<path  class='atom-7' d='M 153.1 35.3\n",
       "L 155.5 32.9\n",
       "L 152.4 32.2\n",
       "L 152.8 30.6\n",
       "L 155.7 32.1\n",
       "L 155.3 28.9\n",
       "L 157.0 28.9\n",
       "L 156.5 32.1\n",
       "L 159.4 30.7\n",
       "L 159.9 32.2\n",
       "L 156.8 32.8\n",
       "L 159.0 35.3\n",
       "L 157.6 36.2\n",
       "L 156.1 33.3\n",
       "L 154.5 36.2\n",
       "L 153.1 35.3\n",
       "' fill='#191919'/>\n",
       "</svg>\n"
      ],
      "text/plain": [
       "<rdkit.Chem.rdchem.Mol at 0x7fb484a89040>"
      ]
     },
     "execution_count": 6,
     "metadata": {},
     "output_type": "execute_result"
    }
   ],
   "source": [
    "frags = Chem.FragmentOnBonds(Chem.MolFromSmiles('CCOC1CC1'),(2,))\n",
    "frags"
   ]
  },
  {
   "cell_type": "code",
   "execution_count": 7,
   "metadata": {},
   "outputs": [
    {
     "data": {
      "text/plain": [
       "'[2*]C1CC1.[3*]OCC'"
      ]
     },
     "execution_count": 7,
     "metadata": {},
     "output_type": "execute_result"
    }
   ],
   "source": [
    "Chem.MolToSmiles(frags,True)"
   ]
  },
  {
   "cell_type": "code",
   "execution_count": 8,
   "metadata": {},
   "outputs": [
    {
     "data": {
      "text/plain": [
       "2"
      ]
     },
     "execution_count": 8,
     "metadata": {},
     "output_type": "execute_result"
    }
   ],
   "source": [
    "pieces = Chem.GetMolFrags(frags,asMols=True)\n",
    "len(pieces)"
   ]
  },
  {
   "cell_type": "code",
   "execution_count": 9,
   "metadata": {},
   "outputs": [
    {
     "data": {
      "text/plain": [
       "['[3*]OCC', '[2*]C1CC1']"
      ]
     },
     "execution_count": 9,
     "metadata": {},
     "output_type": "execute_result"
    }
   ],
   "source": [
    "[Chem.MolToSmiles(x,True) for x in pieces]"
   ]
  },
  {
   "cell_type": "code",
   "execution_count": 10,
   "metadata": {},
   "outputs": [
    {
     "data": {
      "text/plain": [
       "0"
      ]
     },
     "execution_count": 10,
     "metadata": {},
     "output_type": "execute_result"
    }
   ],
   "source": [
    "from rdkit.Chem import AllChem\n",
    "m = Chem.MolFromSmiles('CCOC1CC1')\n",
    "m.SetProp(\"_Name\",\"test molecule\")\n",
    "AllChem.Compute2DCoords(m)"
   ]
  },
  {
   "cell_type": "code",
   "execution_count": 11,
   "metadata": {},
   "outputs": [
    {
     "name": "stdout",
     "output_type": "stream",
     "text": [
      "test molecule\n",
      "     RDKit          2D\n",
      "\n",
      "  6  6  0  0  0  0  0  0  0  0999 V2000\n",
      "   -3.0582   -0.0065    0.0000 C   0  0  0  0  0  0  0  0  0  0  0  0\n",
      "   -1.6205    0.4213    0.0000 C   0  0  0  0  0  0  0  0  0  0  0  0\n",
      "   -0.5311   -0.6098    0.0000 O   0  0  0  0  0  0  0  0  0  0  0  0\n",
      "    0.9066   -0.1820    0.0000 C   0  0  0  0  0  0  0  0  0  0  0  0\n",
      "    2.3656   -0.5303    0.0000 C   0  0  0  0  0  0  0  0  0  0  0  0\n",
      "    1.9377    0.9074    0.0000 C   0  0  0  0  0  0  0  0  0  0  0  0\n",
      "  1  2  1  0\n",
      "  2  3  1  0\n",
      "  3  4  1  0\n",
      "  4  5  1  0\n",
      "  5  6  1  0\n",
      "  6  4  1  0\n",
      "M  END\n",
      "\n"
     ]
    }
   ],
   "source": [
    "print(Chem.MolToMolBlock(m))"
   ]
  },
  {
   "cell_type": "code",
   "execution_count": 12,
   "metadata": {},
   "outputs": [
    {
     "data": {
      "text/plain": [
       "[(2, 8)]"
      ]
     },
     "execution_count": 12,
     "metadata": {},
     "output_type": "execute_result"
    }
   ],
   "source": [
    "# test that for loops work:\n",
    "atns = []\n",
    "for at in m.GetAtoms():\n",
    "    if at.GetAtomicNum()>6:\n",
    "        atns.append((at.GetIdx(),at.GetAtomicNum()))\n",
    "atns"
   ]
  },
  {
   "cell_type": "code",
   "execution_count": 13,
   "metadata": {},
   "outputs": [
    {
     "data": {
      "text/plain": [
       "[(2, 8)]"
      ]
     },
     "execution_count": 13,
     "metadata": {},
     "output_type": "execute_result"
    }
   ],
   "source": [
    "atns = []\n",
    "for at in m.GetAtoms():\n",
    "    if at.GetAtomicNum()>6:\n",
    "        atns.append((at.GetIdx(),at.GetAtomicNum()))\n",
    "atns"
   ]
  },
  {
   "cell_type": "code",
   "execution_count": 14,
   "metadata": {},
   "outputs": [],
   "source": [
    "for at in m.GetAtoms():\n",
    "    if at.GetAtomicNum()>6:\n",
    "        atns.append((at.GetIdx(),at.GetAtomicNum()))\n",
    "if(len(atns)==1):        \n",
    "    atns"
   ]
  },
  {
   "cell_type": "code",
   "execution_count": null,
   "metadata": {},
   "outputs": [],
   "source": []
  }
 ],
 "metadata": {
  "anaconda-cloud": {},
  "celltoolbar": "Tags",
  "hide_input": false,
  "kernelspec": {
   "display_name": "Python 3",
   "language": "python",
   "name": "python3"
  },
  "language_info": {
   "codemirror_mode": {
    "name": "ipython",
    "version": 3
   },
   "file_extension": ".py",
   "mimetype": "text/x-python",
   "name": "python",
   "nbconvert_exporter": "python",
   "pygments_lexer": "ipython3",
   "version": "3.9.1"
  },
  "toc": {
   "base_numbering": 1,
   "nav_menu": {},
   "number_sections": true,
   "sideBar": true,
   "skip_h1_title": false,
   "title_cell": "Table of Contents",
   "title_sidebar": "Contents",
   "toc_cell": false,
   "toc_position": {},
   "toc_section_display": true,
   "toc_window_display": false
  }
 },
 "nbformat": 4,
 "nbformat_minor": 1
}
